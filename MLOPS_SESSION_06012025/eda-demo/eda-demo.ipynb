{
 "cells": [
  {
   "cell_type": "markdown",
   "id": "b38463e2",
   "metadata": {},
   "source": [
    "pip install numpy pandas\n",
    "pip freeze > requirements.txt"
   ]
  },
  {
   "cell_type": "code",
   "execution_count": 3,
   "id": "a76ff1bf",
   "metadata": {},
   "outputs": [],
   "source": [
    "import pandas as pd\n",
    "import numpy as np"
   ]
  },
  {
   "cell_type": "code",
   "execution_count": 4,
   "id": "125608e4",
   "metadata": {},
   "outputs": [],
   "source": [
    "df = pd.read_csv('./data/flights.csv')"
   ]
  },
  {
   "cell_type": "code",
   "execution_count": null,
   "id": "f43e825f",
   "metadata": {},
   "outputs": [],
   "source": [
    "print(df.shape)\n",
    "print(df.head())"
   ]
  },
  {
   "cell_type": "code",
   "execution_count": 6,
   "id": "0906a758",
   "metadata": {},
   "outputs": [
    {
     "name": "stdout",
     "output_type": "stream",
     "text": [
      "386.5\n"
     ]
    }
   ],
   "source": [
    "# average flight duration\n",
    "avg_duration = df[\"Duration\"].mean()\n",
    "print(avg_duration)"
   ]
  },
  {
   "cell_type": "code",
   "execution_count": null,
   "id": "047b5a58",
   "metadata": {},
   "outputs": [],
   "source": [
    "# top 3 longest flights\n",
    "top_longest = df.nlargest(3, 'Duration')\n",
    "print(top_longest)"
   ]
  },
  {
   "cell_type": "code",
   "execution_count": 8,
   "id": "69d1880c",
   "metadata": {},
   "outputs": [
    {
     "data": {
      "text/plain": [
       "np.float64(36.72873534441391)"
      ]
     },
     "execution_count": 8,
     "metadata": {},
     "output_type": "execute_result"
    }
   ],
   "source": [
    "np.std(df['DelayMinutes'])"
   ]
  },
  {
   "cell_type": "code",
   "execution_count": 9,
   "id": "c930a3c1",
   "metadata": {},
   "outputs": [
    {
     "data": {
      "text/plain": [
       "np.int64(50140)"
      ]
     },
     "execution_count": 9,
     "metadata": {},
     "output_type": "execute_result"
    }
   ],
   "source": [
    "np.sum(df['Distance'])"
   ]
  }
 ],
 "metadata": {
  "kernelspec": {
   "display_name": "venv",
   "language": "python",
   "name": "python3"
  },
  "language_info": {
   "codemirror_mode": {
    "name": "ipython",
    "version": 3
   },
   "file_extension": ".py",
   "mimetype": "text/x-python",
   "name": "python",
   "nbconvert_exporter": "python",
   "pygments_lexer": "ipython3",
   "version": "3.13.3"
  }
 },
 "nbformat": 4,
 "nbformat_minor": 5
}
