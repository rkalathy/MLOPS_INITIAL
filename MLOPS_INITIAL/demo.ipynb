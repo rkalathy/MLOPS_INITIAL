{
 "cells": [
  {
   "cell_type": "code",
   "execution_count": null,
   "id": "9ff3bc51",
   "metadata": {},
   "outputs": [],
   "source": [
    "!pip install matplotlib\n",
    "!pip freeze > requirements.txt"
   ]
  },
  {
   "cell_type": "code",
   "execution_count": null,
   "id": "ce858e4a",
   "metadata": {},
   "outputs": [],
   "source": [
    "import pandas as pd\n",
    "import numpy as np\n",
    "import matplotlib.pyplot as plt\n",
    "\n",
    "# np.random.seed(42)\n",
    "\n",
    "# df = pd.DataFrame({\n",
    "#     'serialno': np.random.normal(0, 1, 100),\n",
    "#     'price': np.random.normal(5, 2, 100),\n",
    "#     'category': np.random.choice(['A', 'B', 'C'], 100),\n",
    "#     'target': np.random.randint(0, 2, 100)\n",
    "# })\n",
    "\n",
    "df = pd.read_csv('./data/data.csv')"
   ]
  },
  {
   "cell_type": "code",
   "execution_count": null,
   "id": "87bc7cfd",
   "metadata": {},
   "outputs": [],
   "source": [
    "print(df.info())"
   ]
  },
  {
   "cell_type": "code",
   "execution_count": null,
   "id": "50a942e4",
   "metadata": {},
   "outputs": [],
   "source": [
    "print(df.describe())"
   ]
  },
  {
   "cell_type": "code",
   "execution_count": null,
   "id": "15df492d",
   "metadata": {},
   "outputs": [],
   "source": [
    "for col in ['serialno', 'price']:\n",
    "    plt.figure()\n",
    "    df[col].hist()\n",
    "    plt.title(f'Histogram of {col}')\n",
    "    plt.xlabel(col)\n",
    "    plt.ylabel('Frequency')\n",
    "    plt.show()"
   ]
  }
 ],
 "metadata": {
  "kernelspec": {
   "display_name": "venv",
   "language": "python",
   "name": "python3"
  },
  "language_info": {
   "codemirror_mode": {
    "name": "ipython",
    "version": 3
   },
   "file_extension": ".py",
   "mimetype": "text/x-python",
   "name": "python",
   "nbconvert_exporter": "python",
   "pygments_lexer": "ipython3",
   "version": "3.13.2"
  }
 },
 "nbformat": 4,
 "nbformat_minor": 5
}
